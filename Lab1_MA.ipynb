{
  "nbformat": 4,
  "nbformat_minor": 0,
  "metadata": {
    "colab": {
      "provenance": [],
      "toc_visible": true,
      "authorship_tag": "ABX9TyOcXrJTbbgEYfyAFhV4zYgw",
      "include_colab_link": true
    },
    "kernelspec": {
      "name": "python3",
      "display_name": "Python 3"
    },
    "language_info": {
      "name": "python"
    }
  },
  "cells": [
    {
      "cell_type": "markdown",
      "metadata": {
        "id": "view-in-github",
        "colab_type": "text"
      },
      "source": [
        "<a href=\"https://colab.research.google.com/github/sebabecerra/MercadosAgricolas/blob/main/Lab1_MA.ipynb\" target=\"_parent\"><img src=\"https://colab.research.google.com/assets/colab-badge.svg\" alt=\"Open In Colab\"/></a>"
      ]
    },
    {
      "cell_type": "markdown",
      "source": [
        "\n",
        "<img src=\"https://www.uc.cl/site/templates/dist/images/logo-uc-wh.svg\" alt=\"drawing\" width=\"200\"/>\n",
        "\n",
        "\n",
        "#FACULTAD DE AGRONOMÍA y SISTEMAS NATURALES\n",
        "#Asignatura: Mercados Agricolas\n",
        "###Profesor: Sebastian Becerra\n",
        "### Ayudante:\n",
        "#Laboratorio 1\n",
        "\n",
        "## Origen de los Datos\n",
        "\n",
        "Los datos utilizados en el código provienen del archivo CSV alojado en el repositorio de GitHub del proyecto \"datasets\" de la organización \"datasets\". Este repositorio contiene una colección de conjuntos de datos de código abierto para diferentes propósitos.\n",
        "\n",
        "El archivo específico, `commodity-prices.csv`, forma parte de un conjunto de datos sobre precios de commodities (materias primas). Estos datos son comúnmente utilizados para analizar tendencias de mercado en productos agrícolas, minerales, energía, entre otros.\n",
        "\n",
        "### ¿Qué información contienen estos datos?\n",
        "\n",
        "Este archivo suele incluir información sobre diversos commodities como trigo, maíz, oro, petróleo, entre otros, con precios y fechas correspondientes. La fuente primaria de estos datos puede variar, pero generalmente proviene de:\n",
        "\n",
        "- **Banco Mundial (World Bank)**\n",
        "- **Organización de las Naciones Unidas para la Alimentación y la Agricultura (FAO)**\n",
        "- **Agencias gubernamentales de estadísticas económicas** como la Oficina de Estadísticas Laborales de Estados Unidos (Bureau of Labor Statistics, BLS)\n",
        "- **Bases de datos económicas globales** como Bloomberg o Reuters\n",
        "\n",
        "### ¿Por qué es importante entender el origen de los datos?\n",
        "\n",
        "Comprender de dónde provienen los datos es crucial para:\n",
        "\n",
        "1. Evaluar su **confiabilidad**.\n",
        "2. Entender el **contexto** en el que fueron recolectados.\n",
        "3. Saber cómo se pueden utilizar correctamente para realizar análisis y tomar decisiones informadas.\n",
        "\n",
        "### Actividad 1: Investigación del Origen y Uso de los Datos\n",
        "\n",
        "La primera actividad consistirá en investigar de dónde provienen exactamente los datos en `commodity-prices.csv`, identificar la fuente original y entender para qué están siendo ocupados. Esto incluye:\n",
        "\n",
        "- Identificar y describir las fuentes originales de los datos.\n",
        "- Reflexionar sobre cómo estos datos pueden ser utilizados en análisis de mercado y decisiones financieras.\n",
        "\n",
        "\n"
      ],
      "metadata": {
        "id": "amedJLET0iH4"
      }
    },
    {
      "cell_type": "code",
      "source": [
        "# Laboratorio Práctico: Análisis Estadístico de Mercados Agrícolas en Python\n",
        "\n",
        "# Importar bibliotecas necesarias\n",
        "import pandas as pd\n",
        "import numpy as np\n",
        "import matplotlib.pyplot as plt\n",
        "\n",
        "# Sección 1: Importación y Exploración de Datos\n",
        "# Descargar y cargar los datos desde la URL proporcionada\n",
        "url = 'https://raw.githubusercontent.com/datasets/commodity-prices/master/data/commodity-prices.csv'\n",
        "data = pd.read_csv(url)\n",
        "data"
      ],
      "metadata": {
        "id": "Hdm5Fc68z-30"
      },
      "execution_count": 3,
      "outputs": []
    }
  ]
}