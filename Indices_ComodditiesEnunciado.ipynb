{
  "cells": [
    {
      "cell_type": "markdown",
      "source": [
        "<img src=\"https://www.uc.cl/site/templates/dist/images/logo-uc-wh.svg\" alt=\"drawing\" width=\"200\"/>\n",
        "\n",
        "#FACULTAD DE AGRONOMÍA E INGENIERÍA FORESTAL\n",
        "#Asignatura: Mercados Agricolas\n",
        "###Profesor: Sebastian Becerra\n",
        "### Ayudante: Sebastian Castillo\n"
      ],
      "metadata": {
        "id": "nntJqajIUqYi"
      },
      "id": "nntJqajIUqYi"
    },
    {
      "cell_type": "markdown",
      "source": [
        "#Trabajo Práctico 1\n",
        "\n",
        "En este laboratorio se examinaran los principales índices mundiales de commodities, extraidos de la página web del Fondo Monetario Internacional.\n",
        "\n",
        "Para una descripción de la base de datos ver [aqui](https://www.imf.org/en/Research/commodity-prices)\n",
        "\n",
        "La finalidad de este laboratorio es realizar un análisis estadístico de estos índices y familiarizarse con ***python-colab***. "
      ],
      "metadata": {
        "id": "BQmGueBfdRcT"
      },
      "id": "BQmGueBfdRcT"
    },
    {
      "cell_type": "markdown",
      "source": [
        "##Instalar requirimientos previos para poder trabajar.\n",
        "\n",
        "***pip*** en python es un sistema de gestión de paquetes utilizado para instalar y administrar estos paquetes de software escritos en Python y descargarlos a nuestra computadora con la finalidad de integrarlos a nuestros desarrollos realizado en python.\n",
        "\n",
        "Se instalan los complementos 'xlrd' y pandas para poder leer archivos excel y trabajar con estructuras de datos respectivamente.\n",
        "\n",
        "Para más detalle ver [aqui](https://pandas.pydata.org/)"
      ],
      "metadata": {
        "id": "F_Haq3cNCHSs"
      },
      "id": "F_Haq3cNCHSs"
    },
    {
      "cell_type": "code",
      "source": [
        "!pip install --upgrade xlrd -q\n",
        "!pip install --upgrade pandas -q"
      ],
      "metadata": {
        "id": "vAOUJlMbWz57",
        "colab": {
          "base_uri": "https://localhost:8080/"
        },
        "outputId": "d0785ddb-ca68-4aa6-85e0-3055c48cec76"
      },
      "id": "vAOUJlMbWz57",
      "execution_count": null,
      "outputs": [
        {
          "output_type": "stream",
          "name": "stdout",
          "text": [
            "\u001b[?25l\r\u001b[K     |███▍                            | 10 kB 9.0 MB/s eta 0:00:01\r\u001b[K     |██████▉                         | 20 kB 3.4 MB/s eta 0:00:01\r\u001b[K     |██████████▏                     | 30 kB 4.8 MB/s eta 0:00:01\r\u001b[K     |█████████████▋                  | 40 kB 3.4 MB/s eta 0:00:01\r\u001b[K     |█████████████████               | 51 kB 3.3 MB/s eta 0:00:01\r\u001b[K     |████████████████████▍           | 61 kB 3.9 MB/s eta 0:00:01\r\u001b[K     |███████████████████████▊        | 71 kB 4.2 MB/s eta 0:00:01\r\u001b[K     |███████████████████████████▏    | 81 kB 4.6 MB/s eta 0:00:01\r\u001b[K     |██████████████████████████████▌ | 92 kB 5.1 MB/s eta 0:00:01\r\u001b[K     |████████████████████████████████| 96 kB 1.2 MB/s \n",
            "\u001b[?25h"
          ]
        }
      ]
    },
    {
      "cell_type": "markdown",
      "source": [
        "Para activar los paquetes descargados se utiliza ```import```. Una vez hecho eso, se puede trabajar con los comandos respectivos de cada libreria.\n",
        "\n",
        "#```Actividad Propuesta 1: Revisar documentación de las librerias instaladas y revisar de manera general para que sirve cada una```."
      ],
      "metadata": {
        "id": "sDzuPATdGjCJ"
      },
      "id": "sDzuPATdGjCJ"
    },
    {
      "cell_type": "code",
      "source": [
        "# Importacion Librerias\n",
        "import pandas as pd\n",
        "import pandas_profiling\n",
        "from functools import reduce\n",
        "import numpy as np\n",
        "%matplotlib inline\n",
        "import matplotlib.pyplot as plt\n",
        "import matplotlib\n",
        "from matplotlib.pyplot import figure\n",
        "import seaborn as sns\n",
        "import matplotlib.dates as mdates\n",
        "from matplotlib.ticker import FormatStrFormatter\n",
        "import warnings\n",
        "warnings.filterwarnings('ignore')"
      ],
      "metadata": {
        "id": "b_eoMQe2Wuyd"
      },
      "id": "b_eoMQe2Wuyd",
      "execution_count": null,
      "outputs": []
    },
    {
      "cell_type": "markdown",
      "source": [
        "##Paso 1. \n",
        "Descargar la base de datos directamente desde la pagina del FMI [clic aqui](https://www.imf.org/en/Research/commodity-prices).\n",
        "\n",
        "* Obtener la dirección de descarga y usar el comando ```wget```\n",
        "* La extension ```-O``` permite dar el nombre al archivo descargado.\n",
        "\n"
      ],
      "metadata": {
        "id": "q8qLbcHJHLVP"
      },
      "id": "q8qLbcHJHLVP"
    },
    {
      "cell_type": "markdown",
      "source": [
        "##Paso 2. \n",
        "* Revisar sí se descargó la base de datos (carpeta a la izquierda).\n",
        "* Obtener la ruta para cargar la base de datos. Sobre el archivo excel a la izquierda, pinchar los tres puntos y copiar el path (ruta).\n",
        "* Usar ```pd.read_excel``` de la libreria ```pandas``` para cargar la base de datos como un ```dataframe```.\n",
        "* usar ```head``` para dar una inspeccion a la base de datos.\n"
      ],
      "metadata": {
        "id": "-nXBJEwkLthg"
      },
      "id": "-nXBJEwkLthg"
    },
    {
      "cell_type": "markdown",
      "source": [
        "##Paso 3:\n",
        "\n",
        "* Inspeccionar la base de datos.\n",
        "* Arriba esta el codigo de cada indice descagado. \n",
        "* La fila 0 tiene la descripción de cada serie.\n",
        "* Para mas adelante seleccionaremos: **All Commodity Price Index (PALLFNF)**, **Food Price Index (PFOOD)**, **Industrial Inputs Price Index (PINDU)**, **Agricultural Raw Materials Index (PRAWM)**, **All Metals Index (PALLMETA)** y **Fuel (Energy) Index (PNRG)**.\n",
        "\n",
        "#```Actividad Propuesta 2: Revisar y explorar la definicion que entrega el FMI para cada indice. ¿Existe otro indice de la base de datos que podria ser util? ¿Por qué?```."
      ],
      "metadata": {
        "id": "TV5seHXwPt04"
      },
      "id": "TV5seHXwPt04"
    },
    {
      "cell_type": "markdown",
      "source": [
        "##Paso 4. \n",
        "\n",
        "* Al observar la base de datos se aprecia que existen 3 filas con información poco útil.\n",
        "\n",
        "Remover:\n",
        "\n",
        "*   Fila 0: Descripción del índice.\n",
        "*   Fila 1: Tipo de dato (índice, USD, etc)\n",
        "*   Fila 2: Descripción de la frecuencia de las series.\n",
        "\n",
        "Para esto usar ```drop``` de pandas eliminando la fila 0, fila 1 y fila 2. ```Pandas``` exige poner como index hasta la fila que se requiere, es decir la tres."
      ],
      "metadata": {
        "id": "C0Xg5n6DdVVq"
      },
      "id": "C0Xg5n6DdVVq"
    },
    {
      "cell_type": "markdown",
      "source": [
        "##Paso 5\n",
        "\n",
        "* Inspeccionar la base de datos.\n",
        "* Crear una variable para la fecha.\n",
        "* Dejar la base de datos solo con la fecha y los indices propuestos en el Paso 3.\n",
        "* Renombrar las series como: ```Total, Alimentos, Industrial, Agro, Metales y Energia ```.\n",
        "* Eliminar los NaN.\n",
        "* Guardar la base de datos procesada en un archivo ```CSV```."
      ],
      "metadata": {
        "id": "FwUj9rS3PF6C"
      },
      "id": "FwUj9rS3PF6C"
    },
    {
      "cell_type": "markdown",
      "source": [
        "##Paso 6: \n",
        "\n",
        "\n",
        "*   Análisis gráfico de las series\n",
        "*   Análisis de primeros y segundos momentos.\n",
        "*   Gráficos de las distribuciones.\n",
        "*   Correlaciones entre índices.\n"
      ],
      "metadata": {
        "id": "dmNRWSwk_bHM"
      },
      "id": "dmNRWSwk_bHM"
    },
    {
      "cell_type": "markdown",
      "source": [
        "Distribuciones: ¿Cómo se interpretan los gráficos de violin?"
      ],
      "metadata": {
        "id": "qmkB7Fb_Jsmt"
      },
      "id": "qmkB7Fb_Jsmt"
    },
    {
      "cell_type": "markdown",
      "source": [
        "#```Actividad Propuesta 3: Calcular el primer y segundo monento de cada serie para los siguientes periodos: 2003-2007, 2008-2014, 2015-2018 y 2019 hasta la ultima fecha. ¿Existe alguna diferencia estadisticamente significativa entre las medias? ¿Por qué?. Comente sobre las varianzas de cada serie```.\n",
        "\n",
        "#```Actividad Propuesta 4: Calcular un índice que sea el promedio simple de Alimentos, Industrial, Agro, Metales y Energia. ¿Tiene una media estadisticamente distinta al índice total? ¿Por qué?. Comente sobre las varianzas de cada serie```.\n",
        "\n",
        "#```Actividad Propuesta 5: Incluir en la base de datos el índice de precios de los fertilizantes (PFERT). Busque la definicion de este indice en la pagina del FMI. Repita 3 y 4.```."
      ],
      "metadata": {
        "id": "6SlfE0aXoMIJ"
      },
      "id": "6SlfE0aXoMIJ"
    },
    {
      "cell_type": "code",
      "source": [
        "%%shell\n",
        "jupyter nbconvert --to html /content/Indices_ComodditiesEnunciado.ipynb"
      ],
      "metadata": {
        "colab": {
          "base_uri": "https://localhost:8080/"
        },
        "id": "4cQtnyakSGlI",
        "outputId": "ab2f74c0-54d5-4458-d8a6-0aabe8788968"
      },
      "id": "4cQtnyakSGlI",
      "execution_count": 1,
      "outputs": [
        {
          "output_type": "stream",
          "name": "stdout",
          "text": [
            "[NbConvertApp] Converting notebook /content/Indices_ComodditiesEnunciado.ipynb to html\n",
            "[NbConvertApp] Writing 283912 bytes to /content/Indices_ComodditiesEnunciado.html\n"
          ]
        },
        {
          "output_type": "execute_result",
          "data": {
            "text/plain": []
          },
          "metadata": {},
          "execution_count": 1
        }
      ]
    }
  ],
  "metadata": {
    "kernelspec": {
      "display_name": "Python 3 (ipykernel)",
      "language": "python",
      "name": "python3"
    },
    "language_info": {
      "codemirror_mode": {
        "name": "ipython",
        "version": 3
      },
      "file_extension": ".py",
      "mimetype": "text/x-python",
      "name": "python",
      "nbconvert_exporter": "python",
      "pygments_lexer": "ipython3",
      "version": "3.9.5"
    },
    "colab": {
      "name": "Indices ComodditiesEnunciado.ipynb",
      "provenance": [],
      "collapsed_sections": [
        "TV5seHXwPt04"
      ]
    }
  },
  "nbformat": 4,
  "nbformat_minor": 5
}